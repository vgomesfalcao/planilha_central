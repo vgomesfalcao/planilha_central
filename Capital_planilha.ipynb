{
  "cells": [
    {
      "cell_type": "markdown",
      "metadata": {
        "colab_type": "text",
        "id": "view-in-github"
      },
      "source": [
        "<a href=\"https://colab.research.google.com/github/vgomesfalcao/planilha_central/blob/main/Capital_planilha.ipynb\" target=\"_parent\"><img src=\"https://colab.research.google.com/assets/colab-badge.svg\" alt=\"Open In Colab\"/></a>"
      ]
    },
    {
      "cell_type": "code",
      "execution_count": null,
      "metadata": {
        "id": "3u_XSrRaiWGH"
      },
      "outputs": [],
      "source": [
        "import pandas as pd\n",
        "import numpy as np\n",
        "pd.set_option('max_colwidth', None)"
      ]
    },
    {
      "cell_type": "code",
      "execution_count": null,
      "metadata": {
        "id": "67P8PboFUTaZ"
      },
      "outputs": [],
      "source": [
        "planilha_dexion = 'itau_convertido.xlsx'\n",
        "planilha_sygecom = 'Planilha Excel Sygecom.xlsx'"
      ]
    },
    {
      "cell_type": "code",
      "execution_count": null,
      "metadata": {
        "id": "u_k0mEN8jAuK"
      },
      "outputs": [],
      "source": [
        "dexion = pd.read_excel(planilha_dexion)\n",
        "dexion = dexion.drop(range(8))\n",
        "dexion = dexion.drop(dexion.index[-1])\n",
        "dexion = dexion.dropna(how='all', axis=1)\n",
        "dexion.columns = ['Data', 'Lançamento','Contra-Partida','Parenteses','Atalho','Histórico','Valor de Débito','Valor de Crédito', 'Saldo','Deb/Cred']\n",
        "dexion['Atalho'] = dexion['Parenteses'] + dexion['Atalho']\n",
        "dexion = dexion.drop(columns=['Parenteses'])\n",
        "dexion = dexion.reset_index(drop=True)"
      ]
    },
    {
      "cell_type": "code",
      "execution_count": null,
      "metadata": {
        "colab": {
          "base_uri": "https://localhost:8080/",
          "height": 424
        },
        "id": "o_fR9gfsvUTy",
        "outputId": "a211406c-ab7f-40ef-80fd-8a2b33947577"
      },
      "outputs": [],
      "source": [
        "for row in dexion.itertuples():\n",
        "  if(pd.isnull(row.Data)):\n",
        "    # display(row.Index-1)\n",
        "    # break\n",
        "    subindex = 1\n",
        "    while True:\n",
        "      if((row.Index-subindex) in dexion.index):\n",
        "        linha_anterior = dexion.loc[[row.Index-subindex],'Histórico'].values[0]\n",
        "        break\n",
        "      else:\n",
        "        subindex += 1\n",
        "        \n",
        "    dexion.loc[[row.Index-subindex],'Histórico'] =  linha_anterior + row.Histórico\n",
        "    dexion = dexion.drop(row.Index)\n",
        "dexion = dexion[dexion['Data'] != 'CENTRAL ORGANIZACAO CONTABIL S/C LTDA']\n",
        "dexion = dexion.dropna(how='all', axis=0)\n",
        "dexion = dexion.reset_index(drop=True)\n",
        "dexion"
      ]
    },
    {
      "cell_type": "code",
      "execution_count": null,
      "metadata": {
        "colab": {
          "base_uri": "https://localhost:8080/",
          "height": 424
        },
        "id": "e_p11_WW-5TM",
        "outputId": "a17c6acd-11a8-4c32-fd8a-5199a2ea511a"
      },
      "outputs": [],
      "source": [
        "dexion['Cheques'] = dexion['Histórico'].str.extract(r'((?<=CH:)[\\d,\\s]{3,10})')\n",
        "dexion['Cheques'] = dexion['Cheques'].str.replace(' ','')\n",
        "dexion"
      ]
    },
    {
      "cell_type": "code",
      "execution_count": null,
      "metadata": {
        "id": "1GFefWC6RmIK"
      },
      "outputs": [],
      "source": [
        "datatoexcel = pd.ExcelWriter('processado/cleaned_'+path)\n",
        "dexion.to_excel(datatoexcel)\n",
        "datatoexcel.save()"
      ]
    },
    {
      "cell_type": "code",
      "execution_count": null,
      "metadata": {
        "id": "ZYU7J0kgXkN0"
      },
      "outputs": [],
      "source": [
        "sygecom = pd.read_excel(planilha_sygecom)\n",
        "sygecom = sygecom.drop(columns=['Data Emi','Data Comp','Unnamed: 9','Pago/Rec P/Usuário','Unnamed: 18','Hora Lanc','Filial','Favorecido','Contato','Conta DEB','Conta CRE','CPF/CNPJ','Unnamed: 30','Invoice','Contrato','Adiantamento','Cód. Baixa'])\n",
        "sygecom.rename(columns={'Data Venc':'Data','Saldo   R$':'Saldo','Cheque N.':'Cheques'},inplace = True)\n",
        "sygecom = sygecom.dropna(how='all', axis=1)"
      ]
    },
    {
      "cell_type": "code",
      "execution_count": null,
      "metadata": {
        "id": "OWYiUljVpMro"
      },
      "outputs": [],
      "source": [
        "dexionna = dexion\n",
        "dexionna[['Cheques']] = dexionna[['Cheques']].fillna(0)\n",
        "dexionna['Cheques'] = dexionna['Cheques'].astype('int64')\n",
        "dexionna['Data'] = pd.to_datetime(dexion['Data'],format='%d/%m/%Y')\n"
      ]
    },
    {
      "cell_type": "code",
      "execution_count": null,
      "metadata": {
        "colab": {
          "base_uri": "https://localhost:8080/"
        },
        "id": "LBEhrsve3G3i",
        "outputId": "fa40bf91-d80c-493c-f4dc-5e61912aa36d"
      },
      "outputs": [],
      "source": [
        "sygecom['Cheques'] = sygecom['Cheques'].astype('int64')\n",
        "sygecom.info()"
      ]
    },
    {
      "cell_type": "code",
      "execution_count": null,
      "metadata": {
        "colab": {
          "base_uri": "https://localhost:8080/"
        },
        "id": "ooXUDYV061PN",
        "outputId": "d47916f7-c0e6-488f-dd9c-71acf72249b1"
      },
      "outputs": [],
      "source": [
        "dexionna.info()"
      ]
    },
    {
      "cell_type": "code",
      "execution_count": null,
      "metadata": {
        "id": "tT08DjFOXrHn"
      },
      "outputs": [],
      "source": [
        "juncao = dexionna.append(sygecom).sort_values(['Data','Cheques'])\n",
        "datatoexcel = pd.ExcelWriter('processado/cleaned_juncao.xlsx')\n",
        "juncao.to_excel(datatoexcel)\n",
        "datatoexcel.save()"
      ]
    }
  ],
  "metadata": {
    "colab": {
      "authorship_tag": "ABX9TyManiI5ElFucCudMROWrMZg",
      "collapsed_sections": [],
      "include_colab_link": true,
      "name": "Capital planilha.ipynb",
      "provenance": []
    },
    "kernelspec": {
      "display_name": "Python 3",
      "name": "python3"
    },
    "language_info": {
      "name": "python",
      "version": "3.8.5"
    }
  },
  "nbformat": 4,
  "nbformat_minor": 0
}
