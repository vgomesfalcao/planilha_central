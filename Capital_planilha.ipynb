{
  "nbformat": 4,
  "nbformat_minor": 0,
  "metadata": {
    "colab": {
      "name": "Capital planilha.ipynb",
      "provenance": [],
      "collapsed_sections": [],
      "authorship_tag": "ABX9TyPwrpF+VfzNnEIs4ON3/fML",
      "include_colab_link": true
    },
    "kernelspec": {
      "name": "python3",
      "display_name": "Python 3"
    },
    "language_info": {
      "name": "python"
    }
  },
  "cells": [
    {
      "cell_type": "markdown",
      "metadata": {
        "id": "view-in-github",
        "colab_type": "text"
      },
      "source": [
        "<a href=\"https://colab.research.google.com/github/vgomesfalcao/planilha_central/blob/main/Capital_planilha.ipynb\" target=\"_parent\"><img src=\"https://colab.research.google.com/assets/colab-badge.svg\" alt=\"Open In Colab\"/></a>"
      ]
    },
    {
      "cell_type": "code",
      "metadata": {
        "id": "3u_XSrRaiWGH"
      },
      "source": [
        "import pandas as pd\n",
        "import numpy as np\n",
        "pd.set_option('max_colwidth', None)"
      ],
      "execution_count": null,
      "outputs": []
    },
    {
      "cell_type": "code",
      "metadata": {
        "id": "u_k0mEN8jAuK"
      },
      "source": [
        "path = 'itau_convertido.xlsx'\n",
        "razao = pd.read_excel(path)\n",
        "razao = razao.drop(range(8))\n",
        "razao = razao.drop(razao.index[-1])\n",
        "razao = razao.dropna(how='all', axis=1)\n",
        "razao.columns = ['Data', 'Lançamento','Contra-Partida','Parenteses','Atalho','Histórico','Valor de Débito','Valor de Crédito', 'Saldo','Deb/Cred']\n",
        "razao['Atalho'] = razao['Parenteses'] + razao['Atalho']\n",
        "razao = razao.drop(columns=['Parenteses'])\n",
        "razao = razao.reset_index(drop=True)"
      ],
      "execution_count": null,
      "outputs": []
    },
    {
      "cell_type": "code",
      "metadata": {
        "id": "o_fR9gfsvUTy"
      },
      "source": [
        "for row in razao.itertuples():\n",
        "  if(pd.isnull(row.Data)):\n",
        "    # display(row.Index-1)\n",
        "    # break\n",
        "    subindex = 1\n",
        "    while True:\n",
        "      if((row.Index-subindex) in razao.index):\n",
        "        linha_anterior = razao.loc[[row.Index-subindex],'Histórico'].values[0]\n",
        "        break\n",
        "      else:\n",
        "        subindex += 1\n",
        "        \n",
        "    razao.loc[[row.Index-subindex],'Histórico'] =  linha_anterior + row.Histórico\n",
        "    razao = razao.drop(row.Index)\n",
        "filtro = razao['Data']!='CENTRAL ORGANIZACAO CONTABIL S/C LTDA'\n",
        "razao['Data'] = razao[filtro]\n",
        "razao = razao.dropna(how='all', axis=0)\n",
        "razao = razao.reset_index(drop=True)"
      ],
      "execution_count": null,
      "outputs": []
    },
    {
      "cell_type": "code",
      "metadata": {
        "id": "e_p11_WW-5TM",
        "colab": {
          "base_uri": "https://localhost:8080/",
          "height": 424
        },
        "outputId": "725b4bc7-4855-4816-e479-bead94ae0936"
      },
      "source": [
        "razao['Cheques'] = razao['Histórico'].str.extract(r'((?<=CH:)[\\d,\\s]{3,10})')\n",
        "razao['Cheques'] = razao['Cheques'].str.replace(' ','')\n",
        "razao"
      ],
      "execution_count": null,
      "outputs": [
        {
          "output_type": "execute_result",
          "data": {
            "text/html": [
              "<div>\n",
              "<style scoped>\n",
              "    .dataframe tbody tr th:only-of-type {\n",
              "        vertical-align: middle;\n",
              "    }\n",
              "\n",
              "    .dataframe tbody tr th {\n",
              "        vertical-align: top;\n",
              "    }\n",
              "\n",
              "    .dataframe thead th {\n",
              "        text-align: right;\n",
              "    }\n",
              "</style>\n",
              "<table border=\"1\" class=\"dataframe\">\n",
              "  <thead>\n",
              "    <tr style=\"text-align: right;\">\n",
              "      <th></th>\n",
              "      <th>Data</th>\n",
              "      <th>Lançamento</th>\n",
              "      <th>Contra-Partida</th>\n",
              "      <th>Atalho</th>\n",
              "      <th>Histórico</th>\n",
              "      <th>Valor de Débito</th>\n",
              "      <th>Valor de Crédito</th>\n",
              "      <th>Saldo</th>\n",
              "      <th>Deb/Cred</th>\n",
              "      <th>Cheques</th>\n",
              "    </tr>\n",
              "  </thead>\n",
              "  <tbody>\n",
              "    <tr>\n",
              "      <th>0</th>\n",
              "      <td>03/05/2021</td>\n",
              "      <td>41585.0</td>\n",
              "      <td>2.117020e+09</td>\n",
              "      <td>(94)</td>\n",
              "      <td>CH 10851</td>\n",
              "      <td>NaN</td>\n",
              "      <td>760.50</td>\n",
              "      <td>1638156.13</td>\n",
              "      <td>D</td>\n",
              "      <td>NaN</td>\n",
              "    </tr>\n",
              "    <tr>\n",
              "      <th>1</th>\n",
              "      <td>03/05/2021</td>\n",
              "      <td>41586.0</td>\n",
              "      <td>2.117020e+09</td>\n",
              "      <td>(94)</td>\n",
              "      <td>CH 10493</td>\n",
              "      <td>NaN</td>\n",
              "      <td>1291.50</td>\n",
              "      <td>1636864.63</td>\n",
              "      <td>D</td>\n",
              "      <td>NaN</td>\n",
              "    </tr>\n",
              "    <tr>\n",
              "      <th>2</th>\n",
              "      <td>03/05/2021</td>\n",
              "      <td>41587.0</td>\n",
              "      <td>2.117020e+09</td>\n",
              "      <td>(94)</td>\n",
              "      <td>CH 10496</td>\n",
              "      <td>NaN</td>\n",
              "      <td>1340.00</td>\n",
              "      <td>1635524.63</td>\n",
              "      <td>D</td>\n",
              "      <td>NaN</td>\n",
              "    </tr>\n",
              "    <tr>\n",
              "      <th>3</th>\n",
              "      <td>03/05/2021</td>\n",
              "      <td>41588.0</td>\n",
              "      <td>2.117020e+09</td>\n",
              "      <td>(94)</td>\n",
              "      <td>CH 11190</td>\n",
              "      <td>NaN</td>\n",
              "      <td>1601.50</td>\n",
              "      <td>1633923.13</td>\n",
              "      <td>D</td>\n",
              "      <td>NaN</td>\n",
              "    </tr>\n",
              "    <tr>\n",
              "      <th>4</th>\n",
              "      <td>03/05/2021</td>\n",
              "      <td>41589.0</td>\n",
              "      <td>2.117020e+09</td>\n",
              "      <td>(94)</td>\n",
              "      <td>CH 11219</td>\n",
              "      <td>NaN</td>\n",
              "      <td>2396.86</td>\n",
              "      <td>1631526.27</td>\n",
              "      <td>D</td>\n",
              "      <td>NaN</td>\n",
              "    </tr>\n",
              "    <tr>\n",
              "      <th>...</th>\n",
              "      <td>...</td>\n",
              "      <td>...</td>\n",
              "      <td>...</td>\n",
              "      <td>...</td>\n",
              "      <td>...</td>\n",
              "      <td>...</td>\n",
              "      <td>...</td>\n",
              "      <td>...</td>\n",
              "      <td>...</td>\n",
              "      <td>...</td>\n",
              "    </tr>\n",
              "    <tr>\n",
              "      <th>2733</th>\n",
              "      <td>31/05/2021</td>\n",
              "      <td>45226.0</td>\n",
              "      <td>1.121010e+09</td>\n",
              "      <td>(1060)</td>\n",
              "      <td>B-9193-1 CH:61004</td>\n",
              "      <td>44005.00</td>\n",
              "      <td>NaN</td>\n",
              "      <td>2935307.69</td>\n",
              "      <td>D</td>\n",
              "      <td>61004</td>\n",
              "    </tr>\n",
              "    <tr>\n",
              "      <th>2734</th>\n",
              "      <td>31/05/2021</td>\n",
              "      <td>45227.0</td>\n",
              "      <td>1.125010e+09</td>\n",
              "      <td>(383)</td>\n",
              "      <td>61073-1 CH:12014</td>\n",
              "      <td>NaN</td>\n",
              "      <td>765.00</td>\n",
              "      <td>2934542.69</td>\n",
              "      <td>D</td>\n",
              "      <td>12014</td>\n",
              "    </tr>\n",
              "    <tr>\n",
              "      <th>2735</th>\n",
              "      <td>31/05/2021</td>\n",
              "      <td>45228.0</td>\n",
              "      <td>1.125010e+09</td>\n",
              "      <td>(383)</td>\n",
              "      <td>61080-1 CH:12027</td>\n",
              "      <td>NaN</td>\n",
              "      <td>736.50</td>\n",
              "      <td>2933806.19</td>\n",
              "      <td>D</td>\n",
              "      <td>12027</td>\n",
              "    </tr>\n",
              "    <tr>\n",
              "      <th>2736</th>\n",
              "      <td>31/05/2021</td>\n",
              "      <td>45229.0</td>\n",
              "      <td>1.121010e+09</td>\n",
              "      <td>(1046)</td>\n",
              "      <td>B-9141-1 CH:60963</td>\n",
              "      <td>38863.71</td>\n",
              "      <td>NaN</td>\n",
              "      <td>2972669.90</td>\n",
              "      <td>D</td>\n",
              "      <td>60963</td>\n",
              "    </tr>\n",
              "    <tr>\n",
              "      <th>2737</th>\n",
              "      <td>31/05/2021</td>\n",
              "      <td>45230.0</td>\n",
              "      <td>1.125010e+09</td>\n",
              "      <td>(383)</td>\n",
              "      <td>61081-1 CH:11931</td>\n",
              "      <td>NaN</td>\n",
              "      <td>973.00</td>\n",
              "      <td>2971696.90</td>\n",
              "      <td>D</td>\n",
              "      <td>11931</td>\n",
              "    </tr>\n",
              "  </tbody>\n",
              "</table>\n",
              "<p>2738 rows × 10 columns</p>\n",
              "</div>"
            ],
            "text/plain": [
              "            Data  Lançamento  Contra-Partida  ...       Saldo Deb/Cred  Cheques\n",
              "0     03/05/2021     41585.0    2.117020e+09  ...  1638156.13        D      NaN\n",
              "1     03/05/2021     41586.0    2.117020e+09  ...  1636864.63        D      NaN\n",
              "2     03/05/2021     41587.0    2.117020e+09  ...  1635524.63        D      NaN\n",
              "3     03/05/2021     41588.0    2.117020e+09  ...  1633923.13        D      NaN\n",
              "4     03/05/2021     41589.0    2.117020e+09  ...  1631526.27        D      NaN\n",
              "...          ...         ...             ...  ...         ...      ...      ...\n",
              "2733  31/05/2021     45226.0    1.121010e+09  ...  2935307.69        D    61004\n",
              "2734  31/05/2021     45227.0    1.125010e+09  ...  2934542.69        D    12014\n",
              "2735  31/05/2021     45228.0    1.125010e+09  ...  2933806.19        D    12027\n",
              "2736  31/05/2021     45229.0    1.121010e+09  ...  2972669.90        D    60963\n",
              "2737  31/05/2021     45230.0    1.125010e+09  ...  2971696.90        D    11931\n",
              "\n",
              "[2738 rows x 10 columns]"
            ]
          },
          "metadata": {},
          "execution_count": 4
        }
      ]
    },
    {
      "cell_type": "code",
      "metadata": {
        "id": "1GFefWC6RmIK"
      },
      "source": [
        "datatoexcel = pd.ExcelWriter('processado/cleaned_'+path)\n",
        "razao.to_excel(datatoexcel)\n",
        "datatoexcel.save()"
      ],
      "execution_count": null,
      "outputs": []
    },
    {
      "cell_type": "code",
      "metadata": {
        "id": "ZYU7J0kgXkN0"
      },
      "source": [
        "sygecom = pd.read_excel('Planilha Excel Sygecom.xlsx')\n",
        "sygecom = sygecom.drop(columns=['Data Emi','Data Comp','Unnamed: 9','Pago/Rec P/Usuário','Unnamed: 18','Hora Lanc','Filial','Favorecido','Contato','Conta DEB','Conta CRE','CPF/CNPJ','Unnamed: 30','Invoice','Contrato','Adiantamento','Cód. Baixa'])\n",
        "sygecom.rename(columns={'Data Venc':'Data','Saldo   R$':'Saldo','Cheque N.':'Cheques'},inplace = True)\n",
        "sygecom = sygecom.dropna(how='all', axis=1)"
      ],
      "execution_count": null,
      "outputs": []
    },
    {
      "cell_type": "code",
      "metadata": {
        "id": "OWYiUljVpMro"
      },
      "source": [
        "razaona = razao\n",
        "razaona[['Cheques']] = razaona[['Cheques']].fillna(0)\n",
        "razaona['Cheques'] = razaona['Cheques'].astype('int64')\n",
        "razaona['Data'] = pd.to_datetime(razao['Data'],format='%d/%m/%Y')\n"
      ],
      "execution_count": null,
      "outputs": []
    },
    {
      "cell_type": "code",
      "metadata": {
        "colab": {
          "base_uri": "https://localhost:8080/"
        },
        "id": "LBEhrsve3G3i",
        "outputId": "45602ca8-9643-4655-bbf6-c2dfd411f66c"
      },
      "source": [
        "sygecom['Cheques'] = sygecom['Cheques'].astype('int64')\n",
        "sygecom.info()"
      ],
      "execution_count": null,
      "outputs": [
        {
          "output_type": "stream",
          "name": "stdout",
          "text": [
            "<class 'pandas.core.frame.DataFrame'>\n",
            "RangeIndex: 1272 entries, 0 to 1271\n",
            "Data columns (total 10 columns):\n",
            " #   Column                  Non-Null Count  Dtype         \n",
            "---  ------                  --------------  -----         \n",
            " 0   Data                    1272 non-null   datetime64[ns]\n",
            " 1   Documento               1272 non-null   object        \n",
            " 2   Descricao da Conta      1272 non-null   object        \n",
            " 3   Cheques                 1272 non-null   int64         \n",
            " 4   Entrada R$              1272 non-null   float64       \n",
            " 5   Saida   R$              1272 non-null   float64       \n",
            " 6   Saldo                   1272 non-null   float64       \n",
            " 7   Descricao do Historico  1272 non-null   object        \n",
            " 8   Observações             1272 non-null   object        \n",
            " 9   Nota Fiscal             1272 non-null   object        \n",
            "dtypes: datetime64[ns](1), float64(3), int64(1), object(5)\n",
            "memory usage: 99.5+ KB\n"
          ]
        }
      ]
    },
    {
      "cell_type": "code",
      "metadata": {
        "colab": {
          "base_uri": "https://localhost:8080/"
        },
        "id": "ooXUDYV061PN",
        "outputId": "ba4b7349-4902-4041-959a-b0e6fb2a1b46"
      },
      "source": [
        "razaona.info()"
      ],
      "execution_count": null,
      "outputs": [
        {
          "output_type": "stream",
          "name": "stdout",
          "text": [
            "<class 'pandas.core.frame.DataFrame'>\n",
            "RangeIndex: 2738 entries, 0 to 2737\n",
            "Data columns (total 10 columns):\n",
            " #   Column            Non-Null Count  Dtype         \n",
            "---  ------            --------------  -----         \n",
            " 0   Data              2738 non-null   datetime64[ns]\n",
            " 1   Lançamento        2738 non-null   float64       \n",
            " 2   Contra-Partida    2738 non-null   float64       \n",
            " 3   Atalho            2738 non-null   object        \n",
            " 4   Histórico         2738 non-null   object        \n",
            " 5   Valor de Débito   569 non-null    float64       \n",
            " 6   Valor de Crédito  2169 non-null   float64       \n",
            " 7   Saldo             2738 non-null   float64       \n",
            " 8   Deb/Cred          2738 non-null   object        \n",
            " 9   Cheques           2738 non-null   int64         \n",
            "dtypes: datetime64[ns](1), float64(5), int64(1), object(3)\n",
            "memory usage: 214.0+ KB\n"
          ]
        }
      ]
    },
    {
      "cell_type": "code",
      "metadata": {
        "id": "tT08DjFOXrHn"
      },
      "source": [
        "juncao = razaona.append(sygecom).sort_values(['Data','Cheques'])\n",
        "datatoexcel = pd.ExcelWriter('processado/cleaned_juncao.xlsx')\n",
        "juncao.to_excel(datatoexcel)\n",
        "datatoexcel.save()"
      ],
      "execution_count": null,
      "outputs": []
    }
  ]
}